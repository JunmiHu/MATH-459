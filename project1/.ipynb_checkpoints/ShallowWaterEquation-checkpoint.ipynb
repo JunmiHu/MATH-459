{
 "cells": [
  {
   "cell_type": "code",
   "execution_count": 1,
   "id": "14bf180e",
   "metadata": {},
   "outputs": [],
   "source": [
    "import numpy as np\n",
    "import matplotlib.pyplot as plt"
   ]
  },
  {
   "cell_type": "code",
   "execution_count": 7,
   "id": "9c232da1",
   "metadata": {},
   "outputs": [],
   "source": [
    "N = 100\n",
    "g=1\n",
    "omega = np.linspace(0,2,N+1)"
   ]
  },
  {
   "cell_type": "code",
   "execution_count": 136,
   "id": "f9401ef2",
   "metadata": {},
   "outputs": [],
   "source": [
    "a = 10"
   ]
  },
  {
   "cell_type": "code",
   "execution_count": 137,
   "id": "fa4259f8",
   "metadata": {},
   "outputs": [],
   "source": [
    "def f(q,g=1):\n",
    "    return np.array([q[1], ((q[1]**2)/q[0]) + 0.5*g*(q[0]**2)])"
   ]
  },
  {
   "cell_type": "code",
   "execution_count": 138,
   "id": "b8d5e9d2",
   "metadata": {},
   "outputs": [],
   "source": [
    "def F(u,v,a):\n",
    "    return np.array(0.5*(f(u)+f(v)) - 0.5*a*(v-u))"
   ]
  },
  {
   "cell_type": "code",
   "execution_count": 139,
   "id": "c9a5438f",
   "metadata": {},
   "outputs": [],
   "source": [
    "def S(x,t,u= 0.25,g=1):\n",
    "    s1 = np.pi/2 * (u-1) * np.cos(np.pi*(x-t))\n",
    "    s2 = np.pi/2 * np.cos(np.pi*(x-t)) * (-u+u**2+g*(1+0.5*np.sin(np.pi*x))*(x-t))\n",
    "    return np.array(s1, s2)"
   ]
  },
  {
   "cell_type": "code",
   "execution_count": 146,
   "id": "c22f5ca8",
   "metadata": {},
   "outputs": [],
   "source": [
    "def finiteDiffScheme(q, bound, a, N, T, S, CFL = 0.5, g=1):\n",
    "    dx = 2/N\n",
    "    if bound==\"P\":\n",
    "        t=0\n",
    "        while t < T:\n",
    "            print(f\"Hi, from time {t} with {q[0]}\")\n",
    "            k = CFL * dx/(np.max(np.abs(q[1,:] / q[0,:]) + np.sqrt(g*np.abs(q[0,:]))))\n",
    "            if t+k > T:\n",
    "                k = T-t\n",
    "            t += k\n",
    "            q_old = q.copy()\n",
    "            for i in range(N+1):\n",
    "                q[:,i] = q_old[:,i] - (k/dx)*(F(q_old[:,(i+1)%N],q_old[:,i],a) - F(q_old[:,i], q_old[:,(i-1)%N],a))+S(dx*i , t)\n",
    "    \n",
    "    elif bound==\"O\":\n",
    "        t=0\n",
    "        while t < T:\n",
    "            k = CFL * dx/(np.max(np.abs(q[1,:] / q[0,:]) + np.sqrt(g*q[0,:])))\n",
    "            if t+k > T:\n",
    "                k = T-t\n",
    "            t += k\n",
    "            q_old = q.copy()\n",
    "            for i in range(1,N):\n",
    "                q[:,i] = q_old[:,i] - (k/dx)*(F(q_old[:,i+1],q_old[:,i],a) - F(q_old[:,i], q_old[:,i-1],a))+S(dx*i , t)\n",
    "            q[0]=q[1]\n",
    "            q[N]=q[N-1]\n",
    "    \n",
    "    return q"
   ]
  },
  {
   "cell_type": "code",
   "execution_count": 147,
   "id": "37b2f50c",
   "metadata": {},
   "outputs": [],
   "source": [
    "def h0(x):\n",
    "    return 1+0.5*np.sin(np.pi*x)"
   ]
  },
  {
   "cell_type": "code",
   "execution_count": 148,
   "id": "1ee14575",
   "metadata": {},
   "outputs": [],
   "source": [
    "def m0(x,u=0.25):\n",
    "    u*h0(x)"
   ]
  },
  {
   "cell_type": "code",
   "execution_count": 149,
   "id": "1700f381",
   "metadata": {},
   "outputs": [],
   "source": [
    "q = np.ndarray((2,N+1))\n",
    "q[0] = h0(omega)\n",
    "q[1] = 0.25*q[0]"
   ]
  },
  {
   "cell_type": "code",
   "execution_count": 151,
   "id": "6612e6d8",
   "metadata": {},
   "outputs": [
    {
     "name": "stdout",
     "output_type": "stream",
     "text": [
      "Hi, from time 0 with [nan nan nan nan nan nan nan nan nan nan nan nan nan nan nan nan nan nan\n",
      " nan nan nan nan nan nan nan nan nan nan nan nan nan nan nan nan nan nan\n",
      " nan nan nan nan nan nan nan nan nan nan nan nan nan nan nan nan nan nan\n",
      " nan nan nan nan nan nan nan nan nan nan nan nan nan nan nan nan nan nan\n",
      " nan nan nan nan nan nan nan nan nan nan nan nan nan nan nan nan nan nan\n",
      " nan nan nan nan nan nan nan nan nan nan nan]\n"
     ]
    }
   ],
   "source": [
    "finalQ = finiteDiffScheme(q, \"P\", a, N, 2, S)"
   ]
  },
  {
   "cell_type": "code",
   "execution_count": 68,
   "id": "51ef299e",
   "metadata": {},
   "outputs": [
    {
     "name": "stdout",
     "output_type": "stream",
     "text": [
      "[1.8236874  0.97186589]\n"
     ]
    }
   ],
   "source": [
    "i=0\n",
    "print(F(q[:,(i+1)%N],q[:,i]))"
   ]
  },
  {
   "cell_type": "code",
   "execution_count": 69,
   "id": "949fa62a",
   "metadata": {},
   "outputs": [
    {
     "data": {
      "text/plain": [
       "array([0.25784881, 0.59635029])"
      ]
     },
     "execution_count": 69,
     "metadata": {},
     "output_type": "execute_result"
    }
   ],
   "source": [
    "f(q[:,(i+1)%N])"
   ]
  },
  {
   "cell_type": "code",
   "execution_count": null,
   "id": "e64f5a05",
   "metadata": {},
   "outputs": [],
   "source": []
  }
 ],
 "metadata": {
  "kernelspec": {
   "display_name": "Python 3 (ipykernel)",
   "language": "python",
   "name": "python3"
  },
  "language_info": {
   "codemirror_mode": {
    "name": "ipython",
    "version": 3
   },
   "file_extension": ".py",
   "mimetype": "text/x-python",
   "name": "python",
   "nbconvert_exporter": "python",
   "pygments_lexer": "ipython3",
   "version": "3.11.0"
  }
 },
 "nbformat": 4,
 "nbformat_minor": 5
}
